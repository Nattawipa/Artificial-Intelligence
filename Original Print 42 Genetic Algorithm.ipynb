{
 "cells": [
  {
   "cell_type": "code",
   "execution_count": 17,
   "metadata": {},
   "outputs": [
    {
     "name": "stdout",
     "output_type": "stream",
     "text": [
      "number of population =  4\n"
     ]
    }
   ],
   "source": [
    "import random\n",
    "import numpy as np\n",
    "goal = ['p', 'r', 'i', 'n', 't', '(', '4', '2', ')']      #print(42)\n",
    "number_population = 4\n",
    "print(\"number of population = \",number_population)"
   ]
  },
  {
   "cell_type": "code",
   "execution_count": 18,
   "metadata": {},
   "outputs": [],
   "source": [
    "random_population = []\n",
    "\n",
    "for i in range(number_population):\n",
    "    a = []\n",
    "    for j in range(9):\n",
    "        a.append(chr(random.randrange(33,122)))\n",
    "    random_population.append(a)\n",
    "#     print(random_population[i],\"\\n\")"
   ]
  },
  {
   "cell_type": "code",
   "execution_count": 19,
   "metadata": {},
   "outputs": [],
   "source": [
    "def fitness_function(array_of_population):\n",
    "    for i in random_population:\n",
    "        find_Fitness(i)"
   ]
  },
  {
   "cell_type": "code",
   "execution_count": 20,
   "metadata": {},
   "outputs": [],
   "source": [
    "score = []\n",
    "\n",
    "def find_Fitness(population):\n",
    "    sum = 0\n",
    "    for i in range(len(population)):\n",
    "        for j in range(len(population)):\n",
    "            if goal[i] == population[j] and  i == j:\n",
    "                sum += 10000\n",
    "            elif goal[i] == population[j]:\n",
    "                sum += 1000\n",
    "    score.append(sum)"
   ]
  },
  {
   "cell_type": "code",
   "execution_count": 21,
   "metadata": {},
   "outputs": [],
   "source": [
    "fitness_function(random_population)"
   ]
  },
  {
   "cell_type": "code",
   "execution_count": 22,
   "metadata": {},
   "outputs": [
    {
     "name": "stdout",
     "output_type": "stream",
     "text": [
      "['N', 'E', '&', '^', '+', 'v', 'G', '<', '3'] \n",
      "\n",
      "['&', '<', '<', '$', '+', ',', 'V', 'j', 'i'] \n",
      "\n",
      "['+', 'a', '!', 'A', '9', 'R', 'k', ':', 'b'] \n",
      "\n",
      "['1', '(', 'p', 'V', '7', 'w', 'K', '9', '>'] \n",
      "\n",
      "[0, 1000, 0, 2000]\n"
     ]
    }
   ],
   "source": [
    "for i in random_population:\n",
    "    print(i,\"\\n\")\n",
    "print(score)  "
   ]
  },
  {
   "cell_type": "markdown",
   "metadata": {},
   "source": [
    "sort_population = []\n",
    "\n",
    "def sort_population_by_fitness(population):\n",
    "    for i in range (len(population)):\n",
    "        count = 0\n",
    "        for j in range (len(population)):\n",
    "            if(score[i]<score[j]):\n",
    "                count+=1\n",
    "        sort_population.insert(count,population[i]) \n",
    "    for i in sort_population:\n",
    "        print(i,\"\\n\")                 "
   ]
  },
  {
   "cell_type": "markdown",
   "metadata": {},
   "source": [
    "sort_population_by_fitness(random_population)"
   ]
  },
  {
   "cell_type": "code",
   "execution_count": 23,
   "metadata": {},
   "outputs": [],
   "source": [
    "array_before_crossover = []\n",
    "def selection():\n",
    "    \n",
    "    scoreProbabilities  = list(map(lambda x: x/100000,score)) \n",
    "    sumScoreProbabilities = 0\n",
    "    for i in scoreProbabilities:\n",
    "        sumScoreProbabilities += i\n",
    "    scoreProbabilities  = list(map(lambda x: x/sumScoreProbabilities,scoreProbabilities)) \n",
    "    print(\"score for each population are\\n\\n\",scoreProbabilities , \"\\n\\nsum of the probability is \",sumScoreProbabilities)\n",
    "\n",
    "    something = np.random.choice(number_population , number_population , replace = True , p = scoreProbabilities)\n",
    "\n",
    "    print(\"\\n\\nindex of the Selection array is \",something,\"\\n\\n\")\n",
    "\n",
    "    for i in something:\n",
    "        print (i) \n",
    "        array_before_crossover.append(random_population[i])\n",
    "    print (\"\\n\",len(array_before_crossover))"
   ]
  },
  {
   "cell_type": "code",
   "execution_count": 24,
   "metadata": {},
   "outputs": [
    {
     "name": "stdout",
     "output_type": "stream",
     "text": [
      "score for each population are\n",
      "\n",
      " [0.0, 0.33333333333333337, 0.0, 0.6666666666666667] \n",
      "\n",
      "sum of the probability is  0.03\n",
      "\n",
      "\n",
      "index of the Selection array is  [3 1 3 3] \n",
      "\n",
      "\n",
      "3\n",
      "1\n",
      "3\n",
      "3\n",
      "\n",
      " 4\n"
     ]
    }
   ],
   "source": [
    "selection()"
   ]
  },
  {
   "cell_type": "code",
   "execution_count": 25,
   "metadata": {},
   "outputs": [],
   "source": [
    "import copy\n",
    "\n",
    "array_before_crossover_clone = copy.deepcopy(array_before_crossover)\n",
    "crossover_result = []\n",
    "\n",
    "def crossover():\n",
    "    for i in range(0,len(array_before_crossover),2):\n",
    "        print(i)\n",
    "        random_crossover_position = random.randint(0,8)\n",
    "        print(random_crossover_position)\n",
    "        for j in range(len(array_before_crossover[i])):\n",
    "            if(j>random_crossover_position):\n",
    "                temp = array_before_crossover[i][j]\n",
    "                array_before_crossover_clone[i][j] = array_before_crossover[i+1][j]\n",
    "                array_before_crossover_clone[i+1][j] = temp\n",
    "        crossover_result.append(array_before_crossover_clone[i])\n",
    "        crossover_result.append(array_before_crossover_clone[i+1])\n",
    "        print(crossover_result[i],\"\\n\",crossover_result[i+1],\"\\n\")"
   ]
  },
  {
   "cell_type": "code",
   "execution_count": 26,
   "metadata": {
    "scrolled": true
   },
   "outputs": [
    {
     "name": "stdout",
     "output_type": "stream",
     "text": [
      "0\n",
      "5\n",
      "['1', '(', 'p', 'V', '7', 'w', 'V', 'j', 'i'] \n",
      " ['&', '<', '<', '$', '+', ',', 'K', '9', '>'] \n",
      "\n",
      "2\n",
      "8\n",
      "['1', '(', 'p', 'V', '7', 'w', 'V', 'j', 'i'] \n",
      " ['1', '(', 'p', 'V', '7', 'w', 'V', 'j', 'i'] \n",
      "\n"
     ]
    }
   ],
   "source": [
    "crossover()"
   ]
  },
  {
   "cell_type": "code",
   "execution_count": 27,
   "metadata": {},
   "outputs": [
    {
     "name": "stdout",
     "output_type": "stream",
     "text": [
      "['1', '(', 'p', 'V', '7', 'w', 'V', 'j', 'i']\n",
      "['&', '<', '<', '$', '+', ',', 'K', '9', '>']\n",
      "['1', '(', 'p', 'V', '7', 'w', 'V', 'j', 'i']\n",
      "['1', '(', 'p', 'V', '7', 'w', 'V', 'j', 'i']\n"
     ]
    }
   ],
   "source": [
    "for i in crossover_result:\n",
    "    print(i)"
   ]
  },
  {
   "cell_type": "markdown",
   "metadata": {},
   "source": [
    "mutate_result = copy.deepcopy(crossover_result)\n",
    "def mutate():\n",
    "    for i in range(len(mutate_result)):\n",
    "        print(mutate_result[i])\n",
    "        mutate_position = random.randint(0,8)\n",
    "        print(mutate_position)\n",
    "        for j in range(len(mutate_result[i])):  \n",
    "            if (j == mutate_position):\n",
    "                mutate_result[i][j] = chr(random.randrange(33,122))\n",
    "        print(\"++++++++\",mutate_result[i])"
   ]
  },
  {
   "cell_type": "code",
   "execution_count": 28,
   "metadata": {},
   "outputs": [],
   "source": [
    "mutate_result = []\n",
    "def mutation():\n",
    "    for i in range(len(crossover_result)):\n",
    "        print(crossover_result[i])\n",
    "        mutate_position = random.randint(0,8)\n",
    "        print(mutate_position)\n",
    "        for j in range(len(crossover_result[i])):  \n",
    "            if (j == mutate_position):\n",
    "                crossover_result[i][j] = chr(random.randrange(33,122))\n",
    "        mutate_result.append(crossover_result[i])\n",
    "        print(\"Answer\",mutate_result[i],\"\\n\")"
   ]
  },
  {
   "cell_type": "code",
   "execution_count": 29,
   "metadata": {},
   "outputs": [
    {
     "name": "stdout",
     "output_type": "stream",
     "text": [
      "['1', '(', 'p', 'V', '7', 'w', 'V', 'j', 'i']\n",
      "8\n",
      "Answer ['1', '(', 'p', 'V', '7', 'w', 'V', 'j', 'l'] \n",
      "\n",
      "['&', '<', '<', '$', '+', ',', 'K', '9', '>']\n",
      "1\n",
      "Answer ['&', 'W', '<', '$', '+', ',', 'K', '9', '>'] \n",
      "\n",
      "['1', '(', 'p', 'V', '7', 'w', 'V', 'j', 'l']\n",
      "0\n",
      "Answer ['_', '(', 'p', 'V', '7', 'w', 'V', 'j', 'l'] \n",
      "\n",
      "['_', '(', 'p', 'V', '7', 'w', 'V', 'j', 'l']\n",
      "4\n",
      "Answer ['_', '(', 'p', 'V', '*', 'w', 'V', 'j', 'l'] \n",
      "\n"
     ]
    }
   ],
   "source": [
    "mutation()"
   ]
  },
  {
   "cell_type": "code",
   "execution_count": 30,
   "metadata": {},
   "outputs": [
    {
     "name": "stdout",
     "output_type": "stream",
     "text": [
      "['_', '(', 'p', 'V', '*', 'w', 'V', 'j', 'l']\n",
      "['&', 'W', '<', '$', '+', ',', 'K', '9', '>']\n",
      "['_', '(', 'p', 'V', '*', 'w', 'V', 'j', 'l']\n",
      "['_', '(', 'p', 'V', '*', 'w', 'V', 'j', 'l']\n"
     ]
    }
   ],
   "source": [
    "for i in mutate_result:\n",
    "    print(i)"
   ]
  }
 ],
 "metadata": {
  "kernelspec": {
   "display_name": "Python 3",
   "language": "python",
   "name": "python3"
  },
  "language_info": {
   "codemirror_mode": {
    "name": "ipython",
    "version": 3
   },
   "file_extension": ".py",
   "mimetype": "text/x-python",
   "name": "python",
   "nbconvert_exporter": "python",
   "pygments_lexer": "ipython3",
   "version": "3.8.5"
  }
 },
 "nbformat": 4,
 "nbformat_minor": 4
}
