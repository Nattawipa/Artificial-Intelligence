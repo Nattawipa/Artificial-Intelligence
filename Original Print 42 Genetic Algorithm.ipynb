{
 "cells": [
  {
   "cell_type": "code",
   "execution_count": 1,
   "metadata": {},
   "outputs": [
    {
     "name": "stdout",
     "output_type": "stream",
     "text": [
      "number of population =  4\n"
     ]
    }
   ],
   "source": [
    "import random\n",
    "import numpy as np\n",
    "goal = ['p', 'r', 'i', 'n', 't', '(', '4', '2', ')']      #print(42)\n",
    "number_population = 4\n",
    "print(\"number of population = \",number_population)"
   ]
  },
  {
   "cell_type": "code",
   "execution_count": 2,
   "metadata": {},
   "outputs": [],
   "source": [
    "random_population = []\n",
    "\n",
    "for i in range(number_population):\n",
    "    a = []\n",
    "    for j in range(9):\n",
    "        a.append(chr(random.randrange(33,122)))\n",
    "    random_population.append(a)\n",
    "#     print(random_population[i],\"\\n\")"
   ]
  },
  {
   "cell_type": "code",
   "execution_count": 3,
   "metadata": {},
   "outputs": [],
   "source": [
    "def fitness_function(array_of_population):\n",
    "    for i in random_population:\n",
    "        find_Fitness(i)"
   ]
  },
  {
   "cell_type": "code",
   "execution_count": 4,
   "metadata": {},
   "outputs": [],
   "source": [
    "score = []\n",
    "\n",
    "def find_Fitness(population):\n",
    "    sum = 0\n",
    "    for i in range(len(population)):\n",
    "        for j in range(len(population)):\n",
    "            if goal[i] == population[j] and  i == j:\n",
    "                sum += 10000\n",
    "            elif goal[i] == population[j]:\n",
    "                sum += 1000\n",
    "    score.append(sum)"
   ]
  },
  {
   "cell_type": "code",
   "execution_count": 5,
   "metadata": {},
   "outputs": [],
   "source": [
    "fitness_function(random_population)"
   ]
  },
  {
   "cell_type": "code",
   "execution_count": 6,
   "metadata": {},
   "outputs": [
    {
     "name": "stdout",
     "output_type": "stream",
     "text": [
      "['A', '9', '<', ';', 'h', 'N', 'y', '?', '`'] \n",
      "\n",
      "['\"', 'G', '[', ')', '+', ']', ',', 'E', '\"'] \n",
      "\n",
      "['#', '8', 'k', '>', 'N', '^', 'C', 'U', 'Z'] \n",
      "\n",
      "['k', 'C', 'I', '7', '+', 'o', '1', 'P', '$'] \n",
      "\n",
      "[0, 1000, 0, 0]\n"
     ]
    }
   ],
   "source": [
    "for i in random_population:\n",
    "    print(i,\"\\n\")\n",
    "print(score)  "
   ]
  },
  {
   "cell_type": "markdown",
   "metadata": {},
   "source": [
    "sort_population = []\n",
    "\n",
    "def sort_population_by_fitness(population):\n",
    "    for i in range (len(population)):\n",
    "        count = 0\n",
    "        for j in range (len(population)):\n",
    "            if(score[i]<score[j]):\n",
    "                count+=1\n",
    "        sort_population.insert(count,population[i]) \n",
    "    for i in sort_population:\n",
    "        print(i,\"\\n\")                 "
   ]
  },
  {
   "cell_type": "markdown",
   "metadata": {},
   "source": [
    "sort_population_by_fitness(random_population)"
   ]
  },
  {
   "cell_type": "code",
   "execution_count": 7,
   "metadata": {},
   "outputs": [],
   "source": [
    "array_before_crossover = []\n",
    "def selection():\n",
    "    \n",
    "    scoreProbabilities  = list(map(lambda x: x/100000,score)) \n",
    "    sumScoreProbabilities = 0\n",
    "    for i in scoreProbabilities:\n",
    "        sumScoreProbabilities += i\n",
    "    scoreProbabilities  = list(map(lambda x: x/sumScoreProbabilities,scoreProbabilities)) \n",
    "    print(\"score for each population are\\n\\n\",scoreProbabilities , \"\\n\\nsum of the probability is \",sumScoreProbabilities)\n",
    "\n",
    "    something = np.random.choice(number_population , number_population , replace = True , p = scoreProbabilities)\n",
    "\n",
    "    print(\"\\n\\nindex of the Selection array is \",something,\"\\n\\n\")\n",
    "\n",
    "    for i in something:\n",
    "        print (i) \n",
    "        array_before_crossover.append(random_population[i])\n",
    "    print (\"\\n\",len(array_before_crossover))"
   ]
  },
  {
   "cell_type": "code",
   "execution_count": 8,
   "metadata": {},
   "outputs": [
    {
     "name": "stdout",
     "output_type": "stream",
     "text": [
      "score for each population are\n",
      "\n",
      " [0.0, 1.0, 0.0, 0.0] \n",
      "\n",
      "sum of the probability is  0.01\n",
      "\n",
      "\n",
      "index of the Selection array is  [1 1 1 1] \n",
      "\n",
      "\n",
      "1\n",
      "1\n",
      "1\n",
      "1\n",
      "\n",
      " 4\n"
     ]
    }
   ],
   "source": [
    "selection()"
   ]
  },
  {
   "cell_type": "code",
   "execution_count": 9,
   "metadata": {},
   "outputs": [],
   "source": [
    "import copy\n",
    "\n",
    "array_before_crossover_clone = copy.deepcopy(array_before_crossover)\n",
    "crossover_result = []\n",
    "\n",
    "def crossover():\n",
    "    for i in range(0,len(array_before_crossover),2):\n",
    "        print(i)\n",
    "        random_crossover_position = random.randint(0,8)\n",
    "        print(random_crossover_position)\n",
    "        for j in range(len(array_before_crossover[i])):\n",
    "            if(j>random_crossover_position):\n",
    "                temp = array_before_crossover[i][j]\n",
    "                array_before_crossover_clone[i][j] = array_before_crossover[i+1][j]\n",
    "                array_before_crossover_clone[i+1][j] = temp\n",
    "        crossover_result.append(array_before_crossover_clone[i])\n",
    "        crossover_result.append(array_before_crossover_clone[i+1])\n",
    "        print(crossover_result[i],\"\\n\",crossover_result[i+1],\"\\n\")"
   ]
  },
  {
   "cell_type": "code",
   "execution_count": 10,
   "metadata": {
    "scrolled": true
   },
   "outputs": [
    {
     "name": "stdout",
     "output_type": "stream",
     "text": [
      "0\n",
      "1\n",
      "['\"', 'G', '[', ')', '+', ']', ',', 'E', '\"'] \n",
      " ['\"', 'G', '[', ')', '+', ']', ',', 'E', '\"'] \n",
      "\n",
      "2\n",
      "6\n",
      "['\"', 'G', '[', ')', '+', ']', ',', 'E', '\"'] \n",
      " ['\"', 'G', '[', ')', '+', ']', ',', 'E', '\"'] \n",
      "\n"
     ]
    }
   ],
   "source": [
    "crossover()"
   ]
  },
  {
   "cell_type": "code",
   "execution_count": 11,
   "metadata": {},
   "outputs": [
    {
     "name": "stdout",
     "output_type": "stream",
     "text": [
      "['\"', 'G', '[', ')', '+', ']', ',', 'E', '\"']\n",
      "['\"', 'G', '[', ')', '+', ']', ',', 'E', '\"']\n",
      "['\"', 'G', '[', ')', '+', ']', ',', 'E', '\"']\n",
      "['\"', 'G', '[', ')', '+', ']', ',', 'E', '\"']\n"
     ]
    }
   ],
   "source": [
    "for i in crossover_result:\n",
    "    print(i)"
   ]
  },
  {
   "cell_type": "markdown",
   "metadata": {},
   "source": [
    "mutate_result = copy.deepcopy(crossover_result)\n",
    "def mutate():\n",
    "    for i in range(len(mutate_result)):\n",
    "        print(mutate_result[i])\n",
    "        mutate_position = random.randint(0,8)\n",
    "        print(mutate_position)\n",
    "        for j in range(len(mutate_result[i])):  \n",
    "            if (j == mutate_position):\n",
    "                mutate_result[i][j] = chr(random.randrange(33,122))\n",
    "        print(\"++++++++\",mutate_result[i])"
   ]
  },
  {
   "cell_type": "code",
   "execution_count": 12,
   "metadata": {},
   "outputs": [],
   "source": [
    "mutate_result = []\n",
    "def mutation():\n",
    "    for i in range(len(crossover_result)):\n",
    "        print(crossover_result[i])\n",
    "        mutate_position = random.randint(0,8)\n",
    "        print(mutate_position)\n",
    "        for j in range(len(crossover_result[i])):  \n",
    "            if (j == mutate_position):\n",
    "                crossover_result[i][j] = chr(random.randrange(33,122))\n",
    "        mutate_result.append(crossover_result[i])\n",
    "        print(\"Answer\",mutate_result[i],\"\\n\")"
   ]
  },
  {
   "cell_type": "code",
   "execution_count": 13,
   "metadata": {},
   "outputs": [
    {
     "name": "stdout",
     "output_type": "stream",
     "text": [
      "['\"', 'G', '[', ')', '+', ']', ',', 'E', '\"']\n",
      "2\n",
      "Answer ['\"', 'G', 'j', ')', '+', ']', ',', 'E', '\"'] \n",
      "\n",
      "['\"', 'G', 'j', ')', '+', ']', ',', 'E', '\"']\n",
      "7\n",
      "Answer ['\"', 'G', 'j', ')', '+', ']', ',', '<', '\"'] \n",
      "\n",
      "['\"', 'G', 'j', ')', '+', ']', ',', '<', '\"']\n",
      "0\n",
      "Answer ['J', 'G', 'j', ')', '+', ']', ',', '<', '\"'] \n",
      "\n",
      "['J', 'G', 'j', ')', '+', ']', ',', '<', '\"']\n",
      "2\n",
      "Answer ['J', 'G', '-', ')', '+', ']', ',', '<', '\"'] \n",
      "\n"
     ]
    }
   ],
   "source": [
    "mutation()"
   ]
  },
  {
   "cell_type": "code",
   "execution_count": 14,
   "metadata": {},
   "outputs": [
    {
     "name": "stdout",
     "output_type": "stream",
     "text": [
      "['J', 'G', '-', ')', '+', ']', ',', '<', '\"']\n",
      "['J', 'G', '-', ')', '+', ']', ',', '<', '\"']\n",
      "['J', 'G', '-', ')', '+', ']', ',', '<', '\"']\n",
      "['J', 'G', '-', ')', '+', ']', ',', '<', '\"']\n"
     ]
    }
   ],
   "source": [
    "for i in mutate_result:\n",
    "    print(i)"
   ]
  },
  {
   "cell_type": "code",
   "execution_count": 15,
   "metadata": {},
   "outputs": [],
   "source": [
    "def iteration():\n",
    "    for i in range (3):\n",
    "        fitness_function()\n",
    "        selection()\n",
    "        crossover()\n",
    "        mutation()"
   ]
  },
  {
   "cell_type": "code",
   "execution_count": 16,
   "metadata": {},
   "outputs": [
    {
     "ename": "TypeError",
     "evalue": "fitness_function() missing 1 required positional argument: 'array_of_population'",
     "output_type": "error",
     "traceback": [
      "\u001b[1;31m---------------------------------------------------------------------------\u001b[0m",
      "\u001b[1;31mTypeError\u001b[0m                                 Traceback (most recent call last)",
      "\u001b[1;32m<ipython-input-16-f712d34ce699>\u001b[0m in \u001b[0;36m<module>\u001b[1;34m\u001b[0m\n\u001b[1;32m----> 1\u001b[1;33m \u001b[0miteration\u001b[0m\u001b[1;33m(\u001b[0m\u001b[1;33m)\u001b[0m\u001b[1;33m\u001b[0m\u001b[1;33m\u001b[0m\u001b[0m\n\u001b[0m",
      "\u001b[1;32m<ipython-input-15-4b287487a8cd>\u001b[0m in \u001b[0;36miteration\u001b[1;34m()\u001b[0m\n\u001b[0;32m      1\u001b[0m \u001b[1;32mdef\u001b[0m \u001b[0miteration\u001b[0m\u001b[1;33m(\u001b[0m\u001b[1;33m)\u001b[0m\u001b[1;33m:\u001b[0m\u001b[1;33m\u001b[0m\u001b[1;33m\u001b[0m\u001b[0m\n\u001b[0;32m      2\u001b[0m     \u001b[1;32mfor\u001b[0m \u001b[0mi\u001b[0m \u001b[1;32min\u001b[0m \u001b[0mrange\u001b[0m \u001b[1;33m(\u001b[0m\u001b[1;36m3\u001b[0m\u001b[1;33m)\u001b[0m\u001b[1;33m:\u001b[0m\u001b[1;33m\u001b[0m\u001b[1;33m\u001b[0m\u001b[0m\n\u001b[1;32m----> 3\u001b[1;33m         \u001b[0mfitness_function\u001b[0m\u001b[1;33m(\u001b[0m\u001b[1;33m)\u001b[0m\u001b[1;33m\u001b[0m\u001b[1;33m\u001b[0m\u001b[0m\n\u001b[0m\u001b[0;32m      4\u001b[0m         \u001b[0mselection\u001b[0m\u001b[1;33m(\u001b[0m\u001b[1;33m)\u001b[0m\u001b[1;33m\u001b[0m\u001b[1;33m\u001b[0m\u001b[0m\n\u001b[0;32m      5\u001b[0m         \u001b[0mcrossover\u001b[0m\u001b[1;33m(\u001b[0m\u001b[1;33m)\u001b[0m\u001b[1;33m\u001b[0m\u001b[1;33m\u001b[0m\u001b[0m\n",
      "\u001b[1;31mTypeError\u001b[0m: fitness_function() missing 1 required positional argument: 'array_of_population'"
     ]
    }
   ],
   "source": [
    "iteration()"
   ]
  },
  {
   "cell_type": "code",
   "execution_count": null,
   "metadata": {},
   "outputs": [],
   "source": []
  }
 ],
 "metadata": {
  "kernelspec": {
   "display_name": "Python 3",
   "language": "python",
   "name": "python3"
  },
  "language_info": {
   "codemirror_mode": {
    "name": "ipython",
    "version": 3
   },
   "file_extension": ".py",
   "mimetype": "text/x-python",
   "name": "python",
   "nbconvert_exporter": "python",
   "pygments_lexer": "ipython3",
   "version": "3.8.5"
  }
 },
 "nbformat": 4,
 "nbformat_minor": 4
}
